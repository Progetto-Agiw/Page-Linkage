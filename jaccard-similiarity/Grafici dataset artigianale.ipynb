{
 "cells": [
  {
   "cell_type": "code",
   "execution_count": 28,
   "metadata": {},
   "outputs": [
    {
     "name": "stdout",
     "output_type": "stream",
     "text": [
      "Number of pages:  2\n",
      "Number of pages:  52\n",
      "Number of pages:  102\n",
      "Number of pages:  152\n",
      "Number of pages:  202\n",
      "Number of pages:  252\n",
      "Number of pages:  302\n",
      "Number of pages:  352\n",
      "Number of pages:  402\n",
      "Number of pages:  452\n",
      "Number of pages:  502\n",
      "Done!\n"
     ]
    }
   ],
   "source": [
    "import jaccard_similiarity\n",
    "domain = \"../dataset_basket_pulito_allineato\"\n",
    "site_a = \"NBA_pages\"\n",
    "site_b = \"REALGM_pages\"\n",
    "\n",
    "scores = []\n",
    "page_to_link = 2\n",
    "total_pages = 502\n",
    "while ( page_to_link <= total_pages ):\n",
    "    scores.append(jaccard_similiarity.entity_linkage(domain, site_a, site_b, page_to_link))\n",
    "    page_to_link += 100\n",
    "    \n",
    "print(\"Done!\")"
   ]
  },
  {
   "cell_type": "code",
   "execution_count": 29,
   "metadata": {},
   "outputs": [],
   "source": [
    "import matplotlib as mpl\n",
    "import matplotlib.pyplot as plt"
   ]
  },
  {
   "cell_type": "code",
   "execution_count": 30,
   "metadata": {},
   "outputs": [],
   "source": [
    "import numpy as np\n",
    "\n",
    "def normalize_feature(feature, max_samples, value_repeat=None):\n",
    "    last_feature = len(feature) - 1\n",
    "    while last_feature < max_samples:\n",
    "        if value_repeat == None:\n",
    "            repeated_feature = feature[last_feature]\n",
    "        else:\n",
    "            repeated_feature = value_repeat\n",
    "        feature.append(repeated_feature)\n",
    "        last_feature += 1\n",
    "\n",
    "def normalize_samples(scores, max_samples):\n",
    "    normalized_scores = scores.copy()\n",
    "    for precisions, recalls in normalized_scores:\n",
    "        normalize_feature(precisions, max_samples)\n",
    "        normalize_feature(recalls, max_samples, 1.0)\n",
    "    return normalized_scores\n",
    "\n",
    "def average_score(scores):\n",
    "    precisions = map(lambda score: np.array(score[0]), scores)\n",
    "    recalls = map(lambda score: np.array(score[1]), scores)\n",
    "    \n",
    "    average_precision = sum(precisions) / len(scores)\n",
    "    average_recall = sum(recalls) / len(scores)\n",
    "    return average_precision, average_recall\n",
    "\n",
    "        \n",
    "\n",
    "def plot_recall_precision(recall, precision):\n",
    "    plt.plot(recall, precision)\n",
    "    plt.axis([0, 1.05, 0, 1.05])"
   ]
  },
  {
   "cell_type": "code",
   "execution_count": 31,
   "metadata": {},
   "outputs": [
    {
     "data": {
      "image/png": "[encoded data removed]",
      "text/plain": [
       "<Figure size 432x288 with 1 Axes>"
      ]
     },
     "metadata": {
      "needs_background": "light"
     },
     "output_type": "display_data"
    }
   ],
   "source": [
    "for precision, recall in normalize_samples(scores, page_to_link):\n",
    "    plot_recall_precision(recall, precision)\n",
    "    \n",
    "plt.show()"
   ]
  },
  {
   "cell_type": "code",
   "execution_count": 32,
   "metadata": {},
   "outputs": [
    {
     "data": {
      "image/png": "[encoded data removed]",
      "text/plain": [
       "<Figure size 432x288 with 1 Axes>"
      ]
     },
     "metadata": {
      "needs_background": "light"
     },
     "output_type": "display_data"
    }
   ],
   "source": [
    "average_precision, average_recall = average_score(normalize_samples(scores, page_to_link))\n",
    "plot_recall_precision(average_recall, average_precision)"
   ]
  },
  {
   "cell_type": "code",
   "execution_count": null,
   "metadata": {},
   "outputs": [],
   "source": []
  },
  {
   "cell_type": "code",
   "execution_count": null,
   "metadata": {},
   "outputs": [],
   "source": []
  }
 ],
 "metadata": {
  "kernelspec": {
   "display_name": "Python 3",
   "language": "python",
   "name": "python3"
  },
  "language_info": {
   "codemirror_mode": {
    "name": "ipython",
    "version": 3
   },
   "file_extension": ".py",
   "mimetype": "text/x-python",
   "name": "python",
   "nbconvert_exporter": "python",
   "pygments_lexer": "ipython3",
   "version": "3.7.5"
  }
 },
 "nbformat": 4,
 "nbformat_minor": 4
}
