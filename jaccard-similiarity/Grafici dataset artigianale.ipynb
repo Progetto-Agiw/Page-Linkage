{
 "cells": [
  {
   "cell_type": "code",
   "execution_count": 77,
   "metadata": {},
   "outputs": [
    {
     "name": "stdout",
     "output_type": "stream",
     "text": [
      "Number of pages:  2\n",
      "Number of pages:  3\n",
      "Number of pages:  4\n",
      "Number of pages:  5\n",
      "Number of pages:  6\n",
      "Number of pages:  7\n",
      "Number of pages:  8\n",
      "Number of pages:  9\n",
      "Number of pages:  10\n",
      "Number of pages:  11\n",
      "Number of pages:  12\n",
      "Number of pages:  13\n",
      "Number of pages:  14\n",
      "Number of pages:  15\n",
      "Number of pages:  16\n",
      "Number of pages:  17\n",
      "Number of pages:  18\n",
      "Number of pages:  19\n",
      "Number of pages:  20\n",
      "Number of pages:  21\n",
      "Number of pages:  22\n",
      "Number of pages:  23\n",
      "Number of pages:  24\n",
      "Number of pages:  25\n",
      "Number of pages:  26\n",
      "Number of pages:  27\n",
      "Number of pages:  28\n",
      "Number of pages:  29\n",
      "Number of pages:  30\n",
      "Number of pages:  31\n",
      "Number of pages:  32\n",
      "Number of pages:  33\n",
      "Number of pages:  34\n",
      "Number of pages:  35\n",
      "Number of pages:  36\n",
      "Number of pages:  37\n",
      "Number of pages:  38\n",
      "Number of pages:  39\n"
     ]
    }
   ],
   "source": [
    "import jaccard_similiarity\n",
    "domain = \"nba\"\n",
    "site_a = \"site-a\"\n",
    "site_b = \"site-b\"\n",
    "\n",
    "scores = []\n",
    "page_to_link = 2\n",
    "total_pages = 40\n",
    "while ( page_to_link < total_pages ):\n",
    "    scores.append(jaccard_similiarity.entity_linkage(domain, site_a, site_b, page_to_link))\n",
    "    page_to_link += 1"
   ]
  },
  {
   "cell_type": "code",
   "execution_count": 78,
   "metadata": {},
   "outputs": [],
   "source": [
    "import matplotlib as mpl\n",
    "import matplotlib.pyplot as plt"
   ]
  },
  {
   "cell_type": "code",
   "execution_count": 79,
   "metadata": {},
   "outputs": [],
   "source": [
    "import numpy as np\n",
    "\n",
    "def normalize_feature(feature, max_samples):\n",
    "    last_feature = len(feature) - 1\n",
    "    while last_feature < max_samples:\n",
    "        repeated_feature = feature[last_feature]\n",
    "        feature.append(repeated_feature)\n",
    "        last_feature += 1\n",
    "\n",
    "def normalize_samples(scores, max_samples):\n",
    "    scores = scores.copy()\n",
    "    for precisions, recalls in scores:\n",
    "        normalize_feature(precisions, max_samples)\n",
    "        normalize_feature(recalls, max_samples)\n",
    "    return scores\n",
    "\n",
    "def average_score(scores):\n",
    "    precisions = map(lambda score: np.array(score[0]), scores)\n",
    "    recalls = map(lambda score: np.array(score[1]), scores)\n",
    "    \n",
    "    average_precision = sum(precisions) / len(scores)\n",
    "    average_recalls = sum(recalls) / len(scores)\n",
    "    return average_precision, average_recalls\n",
    "\n",
    "        \n",
    "\n",
    "def plot_recall_precision(recall, precision):\n",
    "    plt.plot(recall, precision)\n",
    "    plt.axis([0, 1.1, 0, 1.1])"
   ]
  },
  {
   "cell_type": "code",
   "execution_count": 80,
   "metadata": {},
   "outputs": [
    {
     "data": {
      "text/plain": [
       "(array([1.        , 1.        , 1.        , 1.        , 1.        ,\n",
       "        1.        , 1.        , 1.        , 1.        , 1.        ,\n",
       "        1.        , 1.        , 1.        , 1.        , 1.        ,\n",
       "        1.        , 1.        , 1.        , 1.        , 1.        ,\n",
       "        1.        , 1.        , 1.        , 1.        , 1.        ,\n",
       "        1.        , 1.        , 1.        , 1.        , 0.99912281,\n",
       "        0.99830221, 0.99671053, 0.99516547, 0.99366439, 0.99220486,\n",
       "        0.99005365, 0.98940168, 0.98874659, 0.98808959, 0.98808959,\n",
       "        0.98808959]),\n",
       " array([0.08561955, 0.17123911, 0.24370077, 0.3073905 , 0.36450128,\n",
       "        0.4163489 , 0.46381056, 0.50751282, 0.54792561, 0.58541442,\n",
       "        0.62027165, 0.65273653, 0.68300844, 0.71125605, 0.73762397,\n",
       "        0.76223749, 0.78520628, 0.80662709, 0.8265859 , 0.84515967,\n",
       "        0.86241766, 0.87842251, 0.89323119, 0.9068957 , 0.91946372,\n",
       "        0.93097912, 0.94148236, 0.95101095, 0.95959968, 0.96645861,\n",
       "        0.97246527, 0.97682411, 0.98040762, 0.98323802, 0.9853363 ,\n",
       "        0.98604754, 0.98741482, 0.98808959, 0.98808959, 0.98808959,\n",
       "        0.98808959]))"
      ]
     },
     "execution_count": 80,
     "metadata": {},
     "output_type": "execute_result"
    }
   ],
   "source": [
    "average_score(normalize_samples(scores, total_pages))"
   ]
  },
  {
   "cell_type": "code",
   "execution_count": 81,
   "metadata": {},
   "outputs": [
    {
     "data": {
      "image/png": "[encoded data removed]",
      "text/plain": [
       "<Figure size 432x288 with 1 Axes>"
      ]
     },
     "metadata": {
      "needs_background": "light"
     },
     "output_type": "display_data"
    }
   ],
   "source": [
    "plot_recall_precision(scores[0], scores[1])"
   ]
  },
  {
   "cell_type": "code",
   "execution_count": null,
   "metadata": {},
   "outputs": [],
   "source": []
  }
 ],
 "metadata": {
  "kernelspec": {
   "display_name": "Python 3",
   "language": "python",
   "name": "python3"
  },
  "language_info": {
   "codemirror_mode": {
    "name": "ipython",
    "version": 3
   },
   "file_extension": ".py",
   "mimetype": "text/x-python",
   "name": "python",
   "nbconvert_exporter": "python",
   "pygments_lexer": "ipython3",
   "version": "3.7.5"
  }
 },
 "nbformat": 4,
 "nbformat_minor": 4
}
